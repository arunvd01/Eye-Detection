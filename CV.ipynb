{
 "cells": [
  {
   "cell_type": "code",
   "execution_count": 1,
   "id": "442d7195-9dd3-40c1-844d-e223dbab8404",
   "metadata": {},
   "outputs": [
    {
     "name": "stdout",
     "output_type": "stream",
     "text": [
      "Requirement already satisfied: opencv-contrib-python in c:\\users\\arunv\\anaconda3\\lib\\site-packages (4.10.0.84)\n",
      "Requirement already satisfied: numpy>=1.21.2 in c:\\users\\arunv\\anaconda3\\lib\\site-packages (from opencv-contrib-python) (1.26.4)\n"
     ]
    },
    {
     "name": "stderr",
     "output_type": "stream",
     "text": [
      "\n",
      "[notice] A new release of pip is available: 25.0 -> 25.1.1\n",
      "[notice] To update, run: python.exe -m pip install --upgrade pip\n"
     ]
    }
   ],
   "source": [
    "!pip install opencv-contrib-python"
   ]
  },
  {
   "cell_type": "code",
   "execution_count": 2,
   "id": "9d618f5a-96cd-4811-b6dc-9083fc6ac7ab",
   "metadata": {},
   "outputs": [],
   "source": [
    "import cv2\n",
    "\n",
    "import numpy as np"
   ]
  },
  {
   "cell_type": "code",
   "execution_count": 3,
   "id": "2bb7ea1a-17bb-42e8-804e-97a3e6a29a15",
   "metadata": {},
   "outputs": [],
   "source": [
    "face_detector = cv2.CascadeClassifier('haarcascade_frontalface_default.xml')\n",
    "\n",
    "eye_detector = cv2.CascadeClassifier('haarcascade_eye.xml')"
   ]
  },
  {
   "cell_type": "code",
   "execution_count": 4,
   "id": "b8d28a9e-1590-4d41-86a8-b38e3374a561",
   "metadata": {
    "scrolled": true
   },
   "outputs": [
    {
     "name": "stdout",
     "output_type": "stream",
     "text": [
      "[[1970  315 1802 1802]\n",
      " [1674 3610   68   68]\n",
      " [ 607 3741   55   55]\n",
      " [1288 3855   54   54]\n",
      " [4651 3918   58   58]\n",
      " [4867 3167   56   56]\n",
      " [2144 3221   60   60]\n",
      " [4756 2802  100  100]\n",
      " [1150 2817  122  122]\n",
      " [1693 3234  393  393]\n",
      " [4855 3188   53   53]\n",
      " [ 751 3124   84   84]\n",
      " [4296 3040   87   87]\n",
      " [ 952 3232   92   92]\n",
      " [2669 3340   35   35]\n",
      " [2079 2874  115  115]\n",
      " [4899 3272  104  104]\n",
      " [1226 3276  105  105]\n",
      " [1252 3223   34   34]\n",
      " [ 777 3296   46   46]\n",
      " [4798 3341   55   55]\n",
      " [ 706 3518   63   63]\n",
      " [2275 2674   89   89]\n",
      " [4446 3421   72   72]\n",
      " [1145 3482   85   85]\n",
      " [4928 3177  108  108]]\n"
     ]
    }
   ],
   "source": [
    "img = cv2.imread(\"D:/DS & AI/CV/1.jpg\")\n",
    "\n",
    "# Check if the image is loaded correctly\n",
    "if img is None:\n",
    "    raise ValueError(\"Image not found or unable to load.\")\n",
    "\n",
    "# Convert to grayscale\n",
    "gray_img = cv2.cvtColor(img, cv2.COLOR_BGR2GRAY)\n",
    "\n",
    "# Load the face detector\n",
    "face_detector = cv2.CascadeClassifier(cv2.data.haarcascades + \"haarcascade_frontalface_default.xml\")\n",
    "\n",
    "# Detect faces\n",
    "result = face_detector.detectMultiScale(\n",
    "    gray_img,\n",
    "    scaleFactor=1.05,\n",
    "    minNeighbors=5,\n",
    "    minSize=(30, 30),\n",
    "    flags=cv2.CASCADE_SCALE_IMAGE\n",
    ")\n",
    "\n",
    "# Print the detection results\n",
    "print(result)"
   ]
  },
  {
   "cell_type": "code",
   "execution_count": 11,
   "id": "65dea716-2da0-452c-9fc1-ae91b9ea0614",
   "metadata": {},
   "outputs": [
    {
     "data": {
      "text/plain": [
       "-1"
      ]
     },
     "execution_count": 11,
     "metadata": {},
     "output_type": "execute_result"
    }
   ],
   "source": [
    "faces = face_detector.detectMultiScale(gray_img, 1.3,5)\n",
    "\n",
    "for (x,y,w,h) in faces:\n",
    "    cv2.rectangle(img, (x,y),(x+w,y+h), (0,255,0),2)\n",
    "\n",
    "cv2.imshow('img',img)\n",
    "cv2.waitKey(0)"
   ]
  },
  {
   "cell_type": "code",
   "execution_count": null,
   "id": "2f8f2360-98aa-422b-bbeb-9d8b782876d8",
   "metadata": {},
   "outputs": [],
   "source": []
  }
 ],
 "metadata": {
  "kernelspec": {
   "display_name": "Python 3 (ipykernel)",
   "language": "python",
   "name": "python3"
  },
  "language_info": {
   "codemirror_mode": {
    "name": "ipython",
    "version": 3
   },
   "file_extension": ".py",
   "mimetype": "text/x-python",
   "name": "python",
   "nbconvert_exporter": "python",
   "pygments_lexer": "ipython3",
   "version": "3.12.4"
  }
 },
 "nbformat": 4,
 "nbformat_minor": 5
}
